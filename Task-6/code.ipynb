{
 "cells": [
  {
   "cell_type": "markdown",
   "metadata": {},
   "source": [
    "**Task-1:** Create an 11x11 image and sequentially fill pixel values from 1 to 121 (i.e. first pixel is gray value 1,\n",
    "second pixel is gray value 2 and so on.)"
   ]
  },
  {
   "cell_type": "code",
   "execution_count": 5,
   "metadata": {},
   "outputs": [
    {
     "data": {
      "image/png": "[encoded data removed]",
      "text/plain": [
       "<Figure size 640x480 with 2 Axes>"
      ]
     },
     "metadata": {},
     "output_type": "display_data"
    }
   ],
   "source": [
    "import numpy as np\n",
    "import matplotlib.pyplot as plt\n",
    "\n",
    "# Create an 11x11 array and fill it with values from 1 to 121\n",
    "image = np.arange(1, 122).reshape(11, 11)\n",
    "\n",
    "# Display the image\n",
    "plt.imshow(image, cmap='gray', vmin=1, vmax=121)\n",
    "plt.colorbar()  # Show a color bar to indicate pixel values\n",
    "plt.title('11x11 Sequential Image')\n",
    "plt.axis('off')  # Hide the axes\n",
    "plt.show()\n"
   ]
  },
  {
   "cell_type": "markdown",
   "metadata": {},
   "source": [
    "**Task-2**: Now implement the code to perform the traditional averaging only for the center row with a 5x5\n",
    "mask of 1’s and count the number of operations required in terms of additions, subtractions,\n",
    "multiplications, and divisions. Zero pad the image accordingly. Display the output array as well."
   ]
  },
  {
   "cell_type": "code",
   "execution_count": 38,
   "metadata": {},
   "outputs": [
    {
     "name": "stdout",
     "output_type": "stream",
     "text": [
      "11x11 Image:\n",
      " [[  1   2   3   4   5   6   7   8   9  10  11]\n",
      " [ 12  13  14  15  16  17  18  19  20  21  22]\n",
      " [ 23  24  25  26  27  28  29  30  31  32  33]\n",
      " [ 34  35  36  37  38  39  40  41  42  43  44]\n",
      " [ 45  46  47  48  49  50  51  52  53  54  55]\n",
      " [ 56  57  58  59  60  61  62  63  64  65  66]\n",
      " [ 67  68  69  70  71  72  73  74  75  76  77]\n",
      " [ 78  79  80  81  82  83  84  85  86  87  88]\n",
      " [ 89  90  91  92  93  94  95  96  97  98  99]\n",
      " [100 101 102 103 104 105 106 107 108 109 110]\n",
      " [111 112 113 114 115 116 117 118 119 120 121]]\n",
      "\n",
      "Output Row (Center Row After Traditional Averaging):\n",
      " [34. 46. 58. 59. 60. 61. 62. 63. 64. 51. 39.]\n",
      "\n",
      "Number of operations required:\n",
      "Additions: 264\n",
      "Divisions: 11\n"
     ]
    }
   ],
   "source": [
    "def traditional_averaging(image, mask_size=5):\n",
    "    # Define mask dimensions and padding\n",
    "    padding = mask_size // 2\n",
    "    padded_image = np.pad(image, ((0, 0), (padding, padding)), mode='constant', constant_values=0)\n",
    "    \n",
    "    # Extract the center row\n",
    "    center_row = padded_image[image.shape[0] // 2]\n",
    "    output_row = np.zeros(len(center_row) - 2 * padding)\n",
    "    \n",
    "    # Perform averaging\n",
    "    num_additions = 0\n",
    "    num_divisions = 0\n",
    "    for i in range(padding, len(center_row) - padding):\n",
    "        # Neighborhood sum\n",
    "        neighborhood_sum = np.sum(center_row[i - padding:i + padding + 1])\n",
    "        num_additions += (mask_size * mask_size) - 1  # Additions for this neighborhood (4 additions for 5 pixels in 1D)\n",
    "\n",
    "        # Average\n",
    "        output_row[i - padding] = neighborhood_sum // mask_size\n",
    "        num_divisions += 1  # Division for averaging\n",
    "    \n",
    "    return output_row, num_additions, num_divisions\n",
    "\n",
    "\n",
    "# Main function\n",
    "def main():\n",
    "    # Part (c)\n",
    "    print(\"11x11 Image:\\n\", image)\n",
    "\n",
    "    # Part (d)\n",
    "    output_row, num_additions, num_divisions = traditional_averaging(image)\n",
    "    print(\"\\nOutput Row (Center Row After Traditional Averaging):\\n\", output_row)\n",
    "    print(f\"\\nNumber of operations required:\")\n",
    "    print(f\"Additions: {num_additions}\")\n",
    "    print(f\"Divisions: {num_divisions}\")\n",
    "\n",
    "# Execute the code\n",
    "if __name__ == \"__main__\":\n",
    "    main()"
   ]
  },
  {
   "cell_type": "markdown",
   "metadata": {},
   "source": [
    "**Task-3**: Repeat step d, but with the optimized averaging approach."
   ]
  },
  {
   "cell_type": "code",
   "execution_count": 40,
   "metadata": {},
   "outputs": [
    {
     "name": "stdout",
     "output_type": "stream",
     "text": [
      "11x11 Image:\n",
      " [[  1   2   3   4   5   6   7   8   9  10  11]\n",
      " [ 12  13  14  15  16  17  18  19  20  21  22]\n",
      " [ 23  24  25  26  27  28  29  30  31  32  33]\n",
      " [ 34  35  36  37  38  39  40  41  42  43  44]\n",
      " [ 45  46  47  48  49  50  51  52  53  54  55]\n",
      " [ 56  57  58  59  60  61  62  63  64  65  66]\n",
      " [ 67  68  69  70  71  72  73  74  75  76  77]\n",
      " [ 78  79  80  81  82  83  84  85  86  87  88]\n",
      " [ 89  90  91  92  93  94  95  96  97  98  99]\n",
      " [100 101 102 103 104 105 106 107 108 109 110]\n",
      " [111 112 113 114 115 116 117 118 119 120 121]]\n",
      "\n",
      "Output Row (Center Row After Optimized Averaging):\n",
      " [34. 45. 56. 56. 56. 56. 56. 56. 56. 56. 56.]\n",
      "\n",
      "Number of operations required:\n",
      "Additions: 59\n",
      "Subtractions: 45\n",
      "Divisions: 11\n"
     ]
    }
   ],
   "source": [
    "# Part (d) - Optimized neighborhood averaging for the center row\n",
    "# Part (d) - Optimized neighborhood averaging for the center row\n",
    "def optimized_averaging(image, mask_size=5):\n",
    "    # Define mask dimensions and padding\n",
    "    padding = mask_size // 2\n",
    "    padded_image = np.pad(image, ((0, 0), (padding, padding)), mode='constant', constant_values=0)\n",
    "    # padded_image = np.pad(image, ((0, 0), (padding, padding)), mode='edge')\n",
    "    \n",
    "    # Extract the center row\n",
    "    center_row = padded_image[image.shape[0] // 2]\n",
    "    output_row = np.zeros(center_row.shape[0] - 2 * padding)\n",
    "    \n",
    "    # Initialize the first average\n",
    "    initial_sum = np.sum(center_row[:mask_size])\n",
    "    current_average = initial_sum // mask_size\n",
    "    output_row[0] = current_average\n",
    "    \n",
    "    # Count operations\n",
    "    num_additions = (mask_size*mask_size) - 1  # Initial sum requires mask_size - 1 additions\n",
    "    num_subtractions = 0\n",
    "    num_divisions = 1  # Initial division\n",
    "    \n",
    "    # Perform optimized averaging for the rest of the row\n",
    "    for i in range(1, len(output_row)):\n",
    "        # Update the average: Add the new pixel and subtract the old pixel\n",
    "        current_average += (center_row[i + padding] - center_row[i - 1])//mask_size\n",
    "\n",
    "        num_additions += (mask_size)  # Add new pixel\n",
    "        num_subtractions += (mask_size) # Remove old pixel\n",
    "        num_divisions += 1  # Division for averaging\n",
    "        \n",
    "        # Store the result\n",
    "        output_row[i] = current_average\n",
    "    for i in range(padding):\n",
    "        j = i + 1\n",
    "        num_additions -= (mask_size*j)\n",
    "    num_subtractions -= mask_size\n",
    "    return output_row, num_additions, num_subtractions, num_divisions\n",
    "\n",
    "# Main function\n",
    "def main():\n",
    "    # Part (c)\n",
    "    print(\"11x11 Image:\\n\", image)\n",
    "\n",
    "    # Part (d) - Optimized Averaging\n",
    "    output_row, num_additions, num_subtractions, num_divisions = optimized_averaging(image)\n",
    "    print(\"\\nOutput Row (Center Row After Optimized Averaging):\\n\", output_row)\n",
    "    print(f\"\\nNumber of operations required:\")\n",
    "    print(f\"Additions: {num_additions}\")\n",
    "    print(f\"Subtractions: {num_subtractions}\")\n",
    "    print(f\"Divisions: {num_divisions}\")\n",
    "\n",
    "# Execute the code\n",
    "if __name__ == \"__main__\":\n",
    "    main()\n"
   ]
  },
  {
   "cell_type": "code",
   "execution_count": null,
   "metadata": {},
   "outputs": [],
   "source": []
  }
 ],
 "metadata": {
  "kernelspec": {
   "display_name": "Python 3",
   "language": "python",
   "name": "python3"
  },
  "language_info": {
   "codemirror_mode": {
    "name": "ipython",
    "version": 3
   },
   "file_extension": ".py",
   "mimetype": "text/x-python",
   "name": "python",
   "nbconvert_exporter": "python",
   "pygments_lexer": "ipython3",
   "version": "3.12.7"
  }
 },
 "nbformat": 4,
 "nbformat_minor": 2
}
